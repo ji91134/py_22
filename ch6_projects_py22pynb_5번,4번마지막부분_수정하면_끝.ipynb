{
  "nbformat": 4,
  "nbformat_minor": 0,
  "metadata": {
    "colab": {
      "name": "ch6_projects.py22pynb 5번,4번마지막부분 수정하면 끝",
      "provenance": [],
      "collapsed_sections": [],
      "include_colab_link": true
    },
    "kernelspec": {
      "name": "python3",
      "display_name": "Python 3"
    }
  },
  "cells": [
    {
      "cell_type": "markdown",
      "metadata": {
        "id": "view-in-github",
        "colab_type": "text"
      },
      "source": [
        "<a href=\"https://colab.research.google.com/github/ji91134/py_22/blob/master/ch6_projects_py22pynb_5%EB%B2%88%2C4%EB%B2%88%EB%A7%88%EC%A7%80%EB%A7%89%EB%B6%80%EB%B6%84_%EC%88%98%EC%A0%95%ED%95%98%EB%A9%B4_%EB%81%9D.ipynb\" target=\"_parent\"><img src=\"https://colab.research.google.com/assets/colab-badge.svg\" alt=\"Open In Colab\"/></a>"
      ]
    },
    {
      "cell_type": "markdown",
      "metadata": {
        "id": "N2Zm4DI7U3CW",
        "colab_type": "text"
      },
      "source": [
        "짤막한 스크립트와 함수들을 만들어 본다.\n",
        "프로그래밍 감각을 키운다.\n",
        "\"문법도 어느 정도 알겠고, 책 내용도 대부분 이해된다.\n",
        "하지만 이러한 지식을 바탕으로 내가 도대체\n",
        "어떤 프로그램을 만들 수 있을까?\""
      ]
    },
    {
      "cell_type": "code",
      "metadata": {
        "id": "wVU5ZSRrU8wh",
        "colab_type": "code",
        "colab": {
          "base_uri": "https://localhost:8080/",
          "height": 53
        },
        "outputId": "fdde3a11-a203-44ff-d53c-c483237b05d7"
      },
      "source": [
        "print(\"파이썬 프로그래밍 연습과 도전\")\n",
        "print(\"1. 내가 프로그램을 만들 수 있을까?\")"
      ],
      "execution_count": 3,
      "outputs": [
        {
          "output_type": "stream",
          "text": [
            "파이썬 프로그래밍 연습과 도전\n",
            "1. 내가 프로그램을 만들 수 있을까?\n"
          ],
          "name": "stdout"
        }
      ]
    },
    {
      "cell_type": "markdown",
      "metadata": {
        "id": "WHqMiMrfVXa1",
        "colab_type": "text"
      },
      "source": [
        "# 1. 구구단  출력"
      ]
    },
    {
      "cell_type": "code",
      "metadata": {
        "id": "1goGSCD1VdFs",
        "colab_type": "code",
        "colab": {
          "base_uri": "https://localhost:8080/",
          "height": 35
        },
        "outputId": "94b5d292-5b69-44f4-bd48-0a1823446175"
      },
      "source": [
        "#Code-1\n",
        "def GuGu0(n):\n",
        "    result = []\n",
        "    result.append(n * 1)\n",
        "    result.append(n * 2)\n",
        "    result.append(n * 3)\n",
        "    result.append(n * 4)\n",
        "    result.append(n * 5)\n",
        "    result.append(n * 6)\n",
        "    result.append(n * 7)\n",
        "    result.append(n * 8)\n",
        "    result.append(n * 9)\n",
        "    return result\n",
        "\n",
        "print(GuGu0(2))"
      ],
      "execution_count": 8,
      "outputs": [
        {
          "output_type": "stream",
          "text": [
            "[2, 4, 6, 8, 10, 12, 14, 16, 18]\n"
          ],
          "name": "stdout"
        }
      ]
    },
    {
      "cell_type": "code",
      "metadata": {
        "id": "e_UmD2RGVjh0",
        "colab_type": "code",
        "colab": {
          "base_uri": "https://localhost:8080/",
          "height": 35
        },
        "outputId": "211f4ce4-a7ca-4100-f3c1-5c28bae47d51"
      },
      "source": [
        "#Code-2\n",
        "def GuGu(n):\n",
        "    result = []\n",
        "    i = 1\n",
        "    while i < 10:\n",
        "        result.append(n * i)\n",
        "        i = i + 1\n",
        "    return result\n",
        "\n",
        "print(GuGu(2))"
      ],
      "execution_count": 10,
      "outputs": [
        {
          "output_type": "stream",
          "text": [
            "[2, 4, 6, 8, 10, 12, 14, 16, 18]\n"
          ],
          "name": "stdout"
        }
      ]
    },
    {
      "cell_type": "markdown",
      "metadata": {
        "id": "MnZCMUgRVw4M",
        "colab_type": "text"
      },
      "source": [
        "# 2.  2. 3과 5의 배수 합하기\n",
        "\n",
        "10 미만의 자연수에서 3과 5의 배수를 구하면 3, 5, 6, 9이다.\n",
        "이들의 총합은 23이다.\n",
        "1000 미만의 자연수에서 3의 배수와 5의 배수의 총합을 구하라."
      ]
    },
    {
      "cell_type": "code",
      "metadata": {
        "id": "nCnWUINOV1N1",
        "colab_type": "code",
        "colab": {
          "base_uri": "https://localhost:8080/",
          "height": 107
        },
        "outputId": "eff599b2-cf38-4a5a-e835-5f85518eefb9"
      },
      "source": [
        "print(\"2. 3과 5의 배수 합하기\")\n",
        "\n",
        "# Wrong!\n",
        "result_w = 0\n",
        "for n in range(1, 1000):\n",
        "    if n % 3 == 0:\n",
        "        result_w += n\n",
        "    if n % 5 == 0:\n",
        "        result_w += n\n",
        "print(result_w)  # 266333\n",
        "\n",
        "# Right!\n",
        "result = 0\n",
        "for n in range(1, 1000):\n",
        "    if n % 3 == 0 or n % 5 == 0:\n",
        "        result += n\n",
        "print(result)  # 233168\n",
        "\n",
        "# 검산을 해보시오.\n",
        "result_3_5 = 0\n",
        "for n in range(1, 1000):\n",
        "    if n % 3 == 0 and n % 5 == 0:\n",
        "        result_3_5 += n\n",
        "print(result_3_5)\n",
        "\n",
        "(result_w - result_3_5) == result"
      ],
      "execution_count": 12,
      "outputs": [
        {
          "output_type": "stream",
          "text": [
            "2. 3과 5의 배수 합하기\n",
            "266333\n",
            "233168\n",
            "33165\n"
          ],
          "name": "stdout"
        },
        {
          "output_type": "execute_result",
          "data": {
            "text/plain": [
              "True"
            ]
          },
          "metadata": {
            "tags": []
          },
          "execution_count": 12
        }
      ]
    },
    {
      "cell_type": "markdown",
      "metadata": {
        "id": "vrYt8y_AWR2F",
        "colab_type": "text"
      },
      "source": [
        "# 3. 게시판 페이징하기\n",
        "\n",
        "A 씨는 게시판 프로그램을 작성하고 있다.\n",
        "그런데 게시물의 총 건수와 한 페이지에 보여 줄\n",
        "게시물 수를 입력으로 주었을 때\n",
        "총 페이지 수를 출력하는 프로그램을 만들어보자.\n",
        "한 페이지에서 보여 줄 게시물 수가 최대 10\n",
        "총 페이지 수 = (총 건수 / 한 페이지당 보여 줄 건수) + 1"
      ]
    },
    {
      "cell_type": "code",
      "metadata": {
        "id": "tzoUhsysWVok",
        "colab_type": "code",
        "colab": {
          "base_uri": "https://localhost:8080/",
          "height": 107
        },
        "outputId": "5469beab-5755-4b57-8620-beb9ddf062ee"
      },
      "source": [
        "#Code-1\n",
        "print(\"3. 게시판 페이징하기\")\n",
        "\n",
        "def getTotalPage(m, n):\n",
        "    return m // n + 1\n",
        "\n",
        "print(getTotalPage(5, 10))  # 1 출력\n",
        "print(getTotalPage(15, 10))  # 2 출력\n",
        "print(getTotalPage(25, 10))  # 3 출력\n",
        "print(getTotalPage(30, 10))  # 4 출력, Wrong!"
      ],
      "execution_count": 18,
      "outputs": [
        {
          "output_type": "stream",
          "text": [
            "3. 게시판 페이징하기\n",
            "1\n",
            "2\n",
            "3\n",
            "4\n"
          ],
          "name": "stdout"
        }
      ]
    },
    {
      "cell_type": "code",
      "metadata": {
        "id": "2xWpY0D3Ws9N",
        "colab_type": "code",
        "colab": {
          "base_uri": "https://localhost:8080/",
          "height": 89
        },
        "outputId": "0b2ccd27-c240-491b-de19-c9afe0d935fc"
      },
      "source": [
        "#Code-2\n",
        "def getTotalPage(m, n):\n",
        "    if m % n == 0:\n",
        "        return m // n\n",
        "    else:\n",
        "        return m // n + 1\n",
        "\n",
        "print(getTotalPage(5, 10))\n",
        "print(getTotalPage(15, 10))\n",
        "print(getTotalPage(25, 10))\n",
        "print(getTotalPage(30, 10))"
      ],
      "execution_count": 19,
      "outputs": [
        {
          "output_type": "stream",
          "text": [
            "1\n",
            "2\n",
            "3\n",
            "3\n"
          ],
          "name": "stdout"
        }
      ]
    },
    {
      "cell_type": "markdown",
      "metadata": {
        "id": "P0IINLKnW0y0",
        "colab_type": "text"
      },
      "source": [
        "# 4. 간단한 메모장 만들기\n",
        "\n",
        "원하는 메모를 파일에 저장하고 추가 및 조회가\n",
        "가능한 간단한 메모장을 만들어 보자.\n",
        "필요한 기능은? 메모 추가하기, 메모 조회하기\n",
        "입력 받는 값은? 메모 내용, 프로그램 실행 옵션\n",
        "출력하는 값은? memo.txt"
      ]
    },
    {
      "cell_type": "code",
      "metadata": {
        "id": "GioBOvUnW7u8",
        "colab_type": "code",
        "colab": {
          "base_uri": "https://localhost:8080/",
          "height": 53
        },
        "outputId": "57145fe0-a60d-4791-bc90-b8de7ede55f1"
      },
      "source": [
        "print(\"4. 간단한 메모장 만들기\")\n",
        "\n",
        "# 1. 입력으로 받은 옵션과 메모를 출력하는 코드를 작성\n",
        "\"\"\"\n",
        "# ./doit/memo.py\n",
        "import sys\n",
        "option = sys.argv[1]\n",
        "memo = sys.argv[2]\n",
        "print(option)\n",
        "print(memo)\n",
        "\"\"\"\n",
        "\n",
        "# 2. memo.py를 작성했다면 다음 명령을 수행\n",
        "# doit 폴더에서 실행\n",
        "\"\"\"\n",
        "python memo.py -a \"Life is too short\"\n",
        "\"\"\"\n",
        "\n",
        "# 3. 입력으로 받은 메모를 파일에 쓰도록 코드를 변경\n",
        "\"\"\"\n",
        "# ./doit/memo.py\n",
        "import sys\n",
        "option = sys.argv[1]\n",
        "if option == '-a':\n",
        "    memo = sys.argv[2]\n",
        "    f = open('memo.txt', 'a')\n",
        "    f.write(memo)\n",
        "    f.write('\\n')\n",
        "    f.close()\n",
        "\"\"\"\n",
        "\n",
        "\n",
        "# 4. 다음과 같은 명령을 수행하여 메모 저장 확인.\n",
        "# doit 폴더에서 실행\n",
        "\"\"\"\n",
        "python memo.py -a \"Life is too short\"\n",
        "python memo.py -a \"You need python\"\n",
        "type memo.txt\n",
        "\"\"\"\n",
        "\n",
        "# 5. 작성한 메모를 출력\n",
        "# 메모 출력은 다음과 같이 동작\n",
        "# 메모 추가는 –a 옵션을 사용하고 메모 출력은 –v 옵션을 사용\n",
        "\"\"\"\n",
        "python memo.py -v\n",
        "\"\"\"\n",
        "#\n",
        "# 메모 출력을 위해 다음과 같이 코드를 변경\n",
        "#\n",
        "\"\"\"\n",
        "# ./doit/memo.py\n",
        "import sys\n",
        "option = sys.argv[1]\n",
        "if option == '-a':\n",
        "    memo = sys.argv[2]\n",
        "    f = open('memo.txt', 'a')\n",
        "    f.write(memo)\n",
        "    f.write('\\n')\n",
        "    f.close()\n",
        "elif option == '-v':\n",
        "    f = open('memo.txt')\n",
        "    memo = f.read()\n",
        "    f.close()\n",
        "    print(memo)\n",
        "\"\"\"\n",
        "\n",
        "# 코드를 수정한 후 다음과 같은 명령을 수행\n",
        "\"\"\"\n",
        "python memo.py -v\n",
        "\"\"\""
      ],
      "execution_count": 40,
      "outputs": [
        {
          "output_type": "stream",
          "text": [
            "4. 간단한 메모장 만들기\n"
          ],
          "name": "stdout"
        },
        {
          "output_type": "execute_result",
          "data": {
            "text/plain": [
              "'\\npython memo.py -v\\n'"
            ]
          },
          "metadata": {
            "tags": []
          },
          "execution_count": 40
        }
      ]
    },
    {
      "cell_type": "code",
      "metadata": {
        "id": "wyW8Z47mYMDl",
        "colab_type": "code",
        "colab": {
          "base_uri": "https://localhost:8080/",
          "height": 35
        },
        "outputId": "0ca8658a-9784-4c13-ff6a-3dced8bae5d7"
      },
      "source": [
        "ls"
      ],
      "execution_count": 30,
      "outputs": [
        {
          "output_type": "stream",
          "text": [
            "ch6_projects.py  \u001b[0m\u001b[01;34mdoit\u001b[0m/  memo.py  \u001b[01;34msample_data\u001b[0m/\n"
          ],
          "name": "stdout"
        }
      ]
    },
    {
      "cell_type": "code",
      "metadata": {
        "id": "wGONlPI_YgUA",
        "colab_type": "code",
        "colab": {}
      },
      "source": [
        "mkdir 'doit'#doit 폴더 생성"
      ],
      "execution_count": 0,
      "outputs": []
    },
    {
      "cell_type": "code",
      "metadata": {
        "id": "TACXL6HQZrQU",
        "colab_type": "code",
        "colab": {}
      },
      "source": [
        "mv memo.py ./doit/ #mv는 이동 명령어 memo.py를 doit폴더 안에 옮겨라!\n"
      ],
      "execution_count": 0,
      "outputs": []
    },
    {
      "cell_type": "code",
      "metadata": {
        "id": "EL63ENLfZKX4",
        "colab_type": "code",
        "colab": {
          "base_uri": "https://localhost:8080/",
          "height": 35
        },
        "outputId": "00a66a7d-eb43-41c0-c5cf-a48a61a10e36"
      },
      "source": [
        "cd doit\n"
      ],
      "execution_count": 33,
      "outputs": [
        {
          "output_type": "stream",
          "text": [
            "/content/doit\n"
          ],
          "name": "stdout"
        }
      ]
    },
    {
      "cell_type": "code",
      "metadata": {
        "id": "Vbbh7lStZvDj",
        "colab_type": "code",
        "colab": {
          "base_uri": "https://localhost:8080/",
          "height": 35
        },
        "outputId": "9e9296bb-6a7d-4b56-cbd5-6e467b47a513"
      },
      "source": [
        "pwd\n"
      ],
      "execution_count": 34,
      "outputs": [
        {
          "output_type": "execute_result",
          "data": {
            "text/plain": [
              "'/content/doit'"
            ]
          },
          "metadata": {
            "tags": []
          },
          "execution_count": 34
        }
      ]
    },
    {
      "cell_type": "code",
      "metadata": {
        "id": "OCK1Un8OZv-L",
        "colab_type": "code",
        "colab": {
          "base_uri": "https://localhost:8080/",
          "height": 53
        },
        "outputId": "bb43ef24-f724-4696-fa0a-6b45cf6249cb"
      },
      "source": [
        "!python memo.py -a \"Py coding is fun!!\""
      ],
      "execution_count": 36,
      "outputs": [
        {
          "output_type": "stream",
          "text": [
            "-a\n",
            "Py coding is fun!!\n"
          ],
          "name": "stdout"
        }
      ]
    },
    {
      "cell_type": "code",
      "metadata": {
        "id": "G3v1UMDmZw47",
        "colab_type": "code",
        "colab": {
          "base_uri": "https://localhost:8080/",
          "height": 35
        },
        "outputId": "f832ecd7-42be-4282-89ef-e43e499dfba8"
      },
      "source": [
        "!Python memo.py -v"
      ],
      "execution_count": 42,
      "outputs": [
        {
          "output_type": "stream",
          "text": [
            "/bin/bash: Python: command not found\n"
          ],
          "name": "stdout"
        }
      ]
    },
    {
      "cell_type": "markdown",
      "metadata": {
        "id": "F9xu4RqfaaKs",
        "colab_type": "text"
      },
      "source": [
        "# 5. 탭을 4개의 공백으로 바꾸기\n",
        "\n",
        "문서 파일을 읽어서 그 문서 파일 안에 있는 탭(tab)을\n",
        "공백(space) 4개로 바꾸어 주는 스크립트를 작성\n",
        "필요한 기능은? 문서 파일 읽어 들이기, 문자열 변경하기\n",
        "입력 받는 값은? 탭을 포함한 문서 파일\n",
        "출력하는 값은? 탭이 공백으로 수정된 문서 파일\n",
        "다음과 같은 형식으로 프로그램이 수행"
      ]
    },
    {
      "cell_type": "code",
      "metadata": {
        "id": "HmlQ6RhpafIb",
        "colab_type": "code",
        "colab": {}
      },
      "source": [
        "print(\"5. 탭을 4개의 공백으로 바꾸기\")\n",
        "\n",
        "\"\"\"\n",
        "python tabto4.py a.txt b.txt\n",
        "\"\"\"\n",
        "# 1. tabto4.py는 \\doit 디렉터리에 저장\n",
        "\"\"\"\n",
        "# ./doit/tabto4.py\n",
        "import sys\n",
        "src = sys.argv[1]\n",
        "dst = sys.argv[2]\n",
        "print(src)\n",
        "print(dst)\n",
        "\"\"\"\n",
        "#\n",
        "# 2. 입력값이 정상적으로 출력되는지 확인\n",
        "#\n",
        "\"\"\"\n",
        "python tabto4.py a.txt b.txt\n",
        "\"\"\"\n",
        "\n",
        "#\n",
        "# 3. 원본 파일(탭을 포함하는 파일)인 a.txt 작성\n",
        "\"\"\"\n",
        "Life    is  too short\n",
        "You need    python\n",
        "\"\"\"\n",
        "\n",
        "#\n",
        "# 4. 탭을 공백 4개로 변환할 수 있도록 코드를 변경\n",
        "\"\"\"\n",
        "# ./doit/tabto4.py\n",
        "import sys\n",
        "src = sys.argv[1]\n",
        "dst = sys.argv[2]\n",
        "f = open(src)\n",
        "tab_content = f.read()\n",
        "f.close()\n",
        "space_content = tab_content.replace(\"\\t\", \" \"*4)\n",
        "print(space_content)\n",
        "\"\"\"\n",
        "\n",
        "#\n",
        "# 5. tabto4.py를 위와 같이 변경한 후 다음과 같은 명령을 수행\n",
        "\"\"\"\n",
        "python tabto4.py a.txt b.txt\n",
        "\"\"\"\n",
        "\n",
        "#\n",
        "# 6. 변경된 내용을 b.txt 파일에 저장\n",
        "\"\"\"\n",
        "# ./doit/tabto4.py\n",
        "import sys\n",
        "src = sys.argv[1]\n",
        "dst = sys.argv[2]\n",
        "f = open(src)\n",
        "tab_content = f.read()\n",
        "f.close()\n",
        "space_content = tab_content.replace(\"\\t\", \" \"*4)\n",
        "f = open(dst, 'w')\n",
        "f.write(space_content)\n",
        "f.close()\n",
        "\"\"\"\n",
        "\n",
        "#\n",
        "# 7. 다음 명령을 수행하여 코드 완성\n",
        "\"\"\"\n",
        "python tabto4.py a.txt b.txt\n",
        "\"\"\"\n",
        "# b.txt 파일을 열어서 탭이 4개의 공백 문자로 변경되었는지 확인"
      ],
      "execution_count": 0,
      "outputs": []
    },
    {
      "cell_type": "code",
      "metadata": {
        "id": "anEcW7_Lcjls",
        "colab_type": "code",
        "colab": {}
      },
      "source": [
        ""
      ],
      "execution_count": 0,
      "outputs": []
    },
    {
      "cell_type": "markdown",
      "metadata": {
        "id": "HTYGn9_tckIK",
        "colab_type": "text"
      },
      "source": [
        "#6. 하위 디렉터리 검색하기\n",
        "\n",
        "특정 디렉터리부터 시작해서 그 하위 모든 파일 중\n",
        "파이썬 파일(*.py)만 출력해 주는 프로그램을\n",
        "만들려면 어떻게 해야 할까?"
      ]
    },
    {
      "cell_type": "code",
      "metadata": {
        "id": "fmKDArLCcpdK",
        "colab_type": "code",
        "colab": {}
      },
      "source": [
        "print(\"6. 하위 디렉터리 검색하기\")\n",
        "\n",
        "\"\"\"\n",
        "# ./ch06/sub_dir_search.py\n",
        "import os\n",
        "def search(dirname):\n",
        "    try:\n",
        "        filenames = os.listdir(dirname)\n",
        "        for filename in filenames:\n",
        "            full_filename = os.path.join(dirname, filename)\n",
        "            if os.path.isdir(full_filename):\n",
        "                search(full_filename)\n",
        "            else:\n",
        "                ext = os.path.splitext(full_filename)[-1]\n",
        "                if ext == '.py': \n",
        "                    print(full_filename)\n",
        "    except PermissionError:\n",
        "        pass\n",
        "search(\"./\")\n",
        "\"\"\"\n",
        "\n",
        "#\n",
        "# os.walk 사용\n",
        "\"\"\"\n",
        "# ./ch06/sub_dir_walk.py\n",
        "import os\n",
        "for (path, dir, files) in os.walk(\"./\"):\n",
        "    for filename in files:\n",
        "        ext = os.path.splitext(filename)[-1]\n",
        "        if ext == '.py':\n",
        "            print(\"%s/%s\" % (path, filename))\n",
        "\"\"\"\n",
        "\n",
        "\n",
        "\"\"\"\n",
        "Author: redwoods\n",
        "파이썬 코드: ch6_projects.py\n",
        "\"\"\""
      ],
      "execution_count": 0,
      "outputs": []
    },
    {
      "cell_type": "markdown",
      "metadata": {
        "id": "jXvyP2D-f-78",
        "colab_type": "text"
      },
      "source": [
        "###폴더 내의 특정 파일 검색"
      ]
    },
    {
      "cell_type": "code",
      "metadata": {
        "id": "5nONGf1Of5Tq",
        "colab_type": "code",
        "colab": {
          "base_uri": "https://localhost:8080/",
          "height": 35
        },
        "outputId": "f1f69a46-daeb-4dc9-d8f5-83a88c496323"
      },
      "source": [
        "!python sub_dir_search.py"
      ],
      "execution_count": 43,
      "outputs": [
        {
          "output_type": "stream",
          "text": [
            "python3: can't open file 'sub_dir_search.py': [Errno 2] No such file or directory\n"
          ],
          "name": "stdout"
        }
      ]
    },
    {
      "cell_type": "code",
      "metadata": {
        "id": "ZGpUsxN1gST4",
        "colab_type": "code",
        "colab": {
          "base_uri": "https://localhost:8080/",
          "height": 35
        },
        "outputId": "275b42d6-d66c-4c7b-8673-20d32e7b0c9f"
      },
      "source": [
        "!python sub_dir_walk.py"
      ],
      "execution_count": 44,
      "outputs": [
        {
          "output_type": "stream",
          "text": [
            "python3: can't open file 'sub_dir_walk.py': [Errno 2] No such file or directory\n"
          ],
          "name": "stdout"
        }
      ]
    }
  ]
}